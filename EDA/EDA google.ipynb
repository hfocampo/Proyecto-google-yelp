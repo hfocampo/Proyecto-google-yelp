{
 "cells": [
  {
   "cell_type": "markdown",
   "metadata": {},
   "source": [
    "# EDA GOOGLE"
   ]
  },
  {
   "cell_type": "code",
   "execution_count": 1,
   "metadata": {},
   "outputs": [],
   "source": [
    "import pandas as pd\n",
    "import numpy as np\n",
    "import matplotlib.pyplot as plt\n",
    "import seaborn as sns"
   ]
  },
  {
   "cell_type": "markdown",
   "metadata": {},
   "source": [
    "## Datasets Metadatos"
   ]
  },
  {
   "cell_type": "markdown",
   "metadata": {},
   "source": [
    "Leemos el dataset metadata el cual venia varios json que los unimos y borramos las columnas 'description' y 'price' por tener muchos valores faltos y ser inecesarios:"
   ]
  },
  {
   "cell_type": "code",
   "execution_count": 4,
   "metadata": {},
   "outputs": [],
   "source": [
    "metadatos_sitio = pd.read_parquet('../Dataset Final Google/Metadata Sitios/metadata_sitios.parquet')"
   ]
  },
  {
   "cell_type": "markdown",
   "metadata": {},
   "source": [
    "Hacemos un primer vistazo general de las filas y columnas que tienen los datasets final."
   ]
  },
  {
   "cell_type": "code",
   "execution_count": 5,
   "metadata": {},
   "outputs": [
    {
     "name": "stdout",
     "output_type": "stream",
     "text": [
      "<class 'pandas.core.frame.DataFrame'>\n",
      "RangeIndex: 3025011 entries, 0 to 3025010\n",
      "Data columns (total 13 columns):\n",
      " #   Column            Dtype  \n",
      "---  ------            -----  \n",
      " 0   name              object \n",
      " 1   address           object \n",
      " 2   gmap_id           object \n",
      " 3   latitude          float64\n",
      " 4   longitude         float64\n",
      " 5   category          object \n",
      " 6   avg_rating        float64\n",
      " 7   num_of_reviews    int64  \n",
      " 8   hours             object \n",
      " 9   MISC              object \n",
      " 10  state             object \n",
      " 11  relative_results  object \n",
      " 12  url               object \n",
      "dtypes: float64(3), int64(1), object(9)\n",
      "memory usage: 300.0+ MB\n"
     ]
    }
   ],
   "source": [
    "metadatos_sitio.info()"
   ]
  },
  {
   "cell_type": "markdown",
   "metadata": {},
   "source": [
    "Notamos un total de 3025011 filas y 15 columnas. Vemos mas de cerca las primeras filas:"
   ]
  },
  {
   "cell_type": "code",
   "execution_count": 6,
   "metadata": {},
   "outputs": [
    {
     "data": {
      "text/html": [
       "<div>\n",
       "<style scoped>\n",
       "    .dataframe tbody tr th:only-of-type {\n",
       "        vertical-align: middle;\n",
       "    }\n",
       "\n",
       "    .dataframe tbody tr th {\n",
       "        vertical-align: top;\n",
       "    }\n",
       "\n",
       "    .dataframe thead th {\n",
       "        text-align: right;\n",
       "    }\n",
       "</style>\n",
       "<table border=\"1\" class=\"dataframe\">\n",
       "  <thead>\n",
       "    <tr style=\"text-align: right;\">\n",
       "      <th></th>\n",
       "      <th>name</th>\n",
       "      <th>address</th>\n",
       "      <th>gmap_id</th>\n",
       "      <th>latitude</th>\n",
       "      <th>longitude</th>\n",
       "      <th>category</th>\n",
       "      <th>avg_rating</th>\n",
       "      <th>num_of_reviews</th>\n",
       "      <th>hours</th>\n",
       "      <th>MISC</th>\n",
       "      <th>state</th>\n",
       "      <th>relative_results</th>\n",
       "      <th>url</th>\n",
       "    </tr>\n",
       "  </thead>\n",
       "  <tbody>\n",
       "    <tr>\n",
       "      <th>0</th>\n",
       "      <td>Porter Pharmacy</td>\n",
       "      <td>Porter Pharmacy, 129 N Second St, Cochran, GA ...</td>\n",
       "      <td>0x88f16e41928ff687:0x883dad4fd048e8f8</td>\n",
       "      <td>32.388300</td>\n",
       "      <td>-83.357100</td>\n",
       "      <td>[Pharmacy]</td>\n",
       "      <td>4.9</td>\n",
       "      <td>16</td>\n",
       "      <td>[[Friday, 8AM–6PM], [Saturday, 8AM–12PM], [Sun...</td>\n",
       "      <td>{'Accessibility': ['Wheelchair accessible entr...</td>\n",
       "      <td>Open ⋅ Closes 6PM</td>\n",
       "      <td>[0x88f16e41929435cf:0x5b2532a2885e9ef6, 0x88f1...</td>\n",
       "      <td>https://www.google.com/maps/place//data=!4m2!3...</td>\n",
       "    </tr>\n",
       "    <tr>\n",
       "      <th>1</th>\n",
       "      <td>City Textile</td>\n",
       "      <td>City Textile, 3001 E Pico Blvd, Los Angeles, C...</td>\n",
       "      <td>0x80c2c98c0e3c16fd:0x29ec8a728764fdf9</td>\n",
       "      <td>34.018891</td>\n",
       "      <td>-118.215290</td>\n",
       "      <td>[Textile exporter]</td>\n",
       "      <td>4.5</td>\n",
       "      <td>6</td>\n",
       "      <td>None</td>\n",
       "      <td>None</td>\n",
       "      <td>Open now</td>\n",
       "      <td>[0x80c2c624136ea88b:0xb0315367ed448771, 0x80c2...</td>\n",
       "      <td>https://www.google.com/maps/place//data=!4m2!3...</td>\n",
       "    </tr>\n",
       "    <tr>\n",
       "      <th>2</th>\n",
       "      <td>San Soo Dang</td>\n",
       "      <td>San Soo Dang, 761 S Vermont Ave, Los Angeles, ...</td>\n",
       "      <td>0x80c2c778e3b73d33:0xbdc58662a4a97d49</td>\n",
       "      <td>34.058092</td>\n",
       "      <td>-118.292130</td>\n",
       "      <td>[Korean restaurant]</td>\n",
       "      <td>4.4</td>\n",
       "      <td>18</td>\n",
       "      <td>[[Thursday, 6:30AM–6PM], [Friday, 6:30AM–6PM],...</td>\n",
       "      <td>{'Accessibility': ['Wheelchair accessible entr...</td>\n",
       "      <td>Open ⋅ Closes 6PM</td>\n",
       "      <td>[0x80c2c78249aba68f:0x35bf16ce61be751d, 0x80c2...</td>\n",
       "      <td>https://www.google.com/maps/place//data=!4m2!3...</td>\n",
       "    </tr>\n",
       "    <tr>\n",
       "      <th>3</th>\n",
       "      <td>Nova Fabrics</td>\n",
       "      <td>Nova Fabrics, 2200 E 11th St, Los Angeles, CA ...</td>\n",
       "      <td>0x80c2c89923b27a41:0x32041559418d447</td>\n",
       "      <td>34.023669</td>\n",
       "      <td>-118.232930</td>\n",
       "      <td>[Fabric store]</td>\n",
       "      <td>3.3</td>\n",
       "      <td>6</td>\n",
       "      <td>[[Thursday, 9AM–5PM], [Friday, 9AM–5PM], [Satu...</td>\n",
       "      <td>{'Accessibility': None, 'Activities': None, 'A...</td>\n",
       "      <td>Open ⋅ Closes 5PM</td>\n",
       "      <td>[0x80c2c8811477253f:0x23a8a492df1918f7, 0x80c2...</td>\n",
       "      <td>https://www.google.com/maps/place//data=!4m2!3...</td>\n",
       "    </tr>\n",
       "    <tr>\n",
       "      <th>4</th>\n",
       "      <td>Nobel Textile Co</td>\n",
       "      <td>Nobel Textile Co, 719 E 9th St, Los Angeles, C...</td>\n",
       "      <td>0x80c2c632f933b073:0xc31785961fe826a6</td>\n",
       "      <td>34.036694</td>\n",
       "      <td>-118.249421</td>\n",
       "      <td>[Fabric store]</td>\n",
       "      <td>4.3</td>\n",
       "      <td>7</td>\n",
       "      <td>[[Thursday, 9AM–5PM], [Friday, 9AM–5PM], [Satu...</td>\n",
       "      <td>{'Accessibility': None, 'Activities': None, 'A...</td>\n",
       "      <td>Open ⋅ Closes 5PM</td>\n",
       "      <td>[0x80c2c62c496083d1:0xdefa11317fe870a1, 0x80c2...</td>\n",
       "      <td>https://www.google.com/maps/place//data=!4m2!3...</td>\n",
       "    </tr>\n",
       "  </tbody>\n",
       "</table>\n",
       "</div>"
      ],
      "text/plain": [
       "               name                                            address  \\\n",
       "0   Porter Pharmacy  Porter Pharmacy, 129 N Second St, Cochran, GA ...   \n",
       "1      City Textile  City Textile, 3001 E Pico Blvd, Los Angeles, C...   \n",
       "2      San Soo Dang  San Soo Dang, 761 S Vermont Ave, Los Angeles, ...   \n",
       "3      Nova Fabrics  Nova Fabrics, 2200 E 11th St, Los Angeles, CA ...   \n",
       "4  Nobel Textile Co  Nobel Textile Co, 719 E 9th St, Los Angeles, C...   \n",
       "\n",
       "                                 gmap_id   latitude   longitude  \\\n",
       "0  0x88f16e41928ff687:0x883dad4fd048e8f8  32.388300  -83.357100   \n",
       "1  0x80c2c98c0e3c16fd:0x29ec8a728764fdf9  34.018891 -118.215290   \n",
       "2  0x80c2c778e3b73d33:0xbdc58662a4a97d49  34.058092 -118.292130   \n",
       "3   0x80c2c89923b27a41:0x32041559418d447  34.023669 -118.232930   \n",
       "4  0x80c2c632f933b073:0xc31785961fe826a6  34.036694 -118.249421   \n",
       "\n",
       "              category  avg_rating  num_of_reviews  \\\n",
       "0           [Pharmacy]         4.9              16   \n",
       "1   [Textile exporter]         4.5               6   \n",
       "2  [Korean restaurant]         4.4              18   \n",
       "3       [Fabric store]         3.3               6   \n",
       "4       [Fabric store]         4.3               7   \n",
       "\n",
       "                                               hours  \\\n",
       "0  [[Friday, 8AM–6PM], [Saturday, 8AM–12PM], [Sun...   \n",
       "1                                               None   \n",
       "2  [[Thursday, 6:30AM–6PM], [Friday, 6:30AM–6PM],...   \n",
       "3  [[Thursday, 9AM–5PM], [Friday, 9AM–5PM], [Satu...   \n",
       "4  [[Thursday, 9AM–5PM], [Friday, 9AM–5PM], [Satu...   \n",
       "\n",
       "                                                MISC              state  \\\n",
       "0  {'Accessibility': ['Wheelchair accessible entr...  Open ⋅ Closes 6PM   \n",
       "1                                               None           Open now   \n",
       "2  {'Accessibility': ['Wheelchair accessible entr...  Open ⋅ Closes 6PM   \n",
       "3  {'Accessibility': None, 'Activities': None, 'A...  Open ⋅ Closes 5PM   \n",
       "4  {'Accessibility': None, 'Activities': None, 'A...  Open ⋅ Closes 5PM   \n",
       "\n",
       "                                    relative_results  \\\n",
       "0  [0x88f16e41929435cf:0x5b2532a2885e9ef6, 0x88f1...   \n",
       "1  [0x80c2c624136ea88b:0xb0315367ed448771, 0x80c2...   \n",
       "2  [0x80c2c78249aba68f:0x35bf16ce61be751d, 0x80c2...   \n",
       "3  [0x80c2c8811477253f:0x23a8a492df1918f7, 0x80c2...   \n",
       "4  [0x80c2c62c496083d1:0xdefa11317fe870a1, 0x80c2...   \n",
       "\n",
       "                                                 url  \n",
       "0  https://www.google.com/maps/place//data=!4m2!3...  \n",
       "1  https://www.google.com/maps/place//data=!4m2!3...  \n",
       "2  https://www.google.com/maps/place//data=!4m2!3...  \n",
       "3  https://www.google.com/maps/place//data=!4m2!3...  \n",
       "4  https://www.google.com/maps/place//data=!4m2!3...  "
      ]
     },
     "execution_count": 6,
     "metadata": {},
     "output_type": "execute_result"
    }
   ],
   "source": [
    "metadatos_sitio.head()"
   ]
  },
  {
   "cell_type": "markdown",
   "metadata": {},
   "source": [
    "Notamos varias columnas anidadas como 'category','hours' y 'MISC'. Ahora vemos el tipo de dato de las columnas:"
   ]
  },
  {
   "cell_type": "code",
   "execution_count": 7,
   "metadata": {},
   "outputs": [
    {
     "name": "stdout",
     "output_type": "stream",
     "text": [
      "La columna 'name' es de tipo: object\n",
      "La columna 'address' es de tipo: object\n",
      "La columna 'gmap_id' es de tipo: object\n",
      "La columna 'latitude' es de tipo: float64\n",
      "La columna 'longitude' es de tipo: float64\n",
      "La columna 'category' es de tipo: object\n",
      "La columna 'avg_rating' es de tipo: float64\n",
      "La columna 'num_of_reviews' es de tipo: int64\n",
      "La columna 'hours' es de tipo: object\n",
      "La columna 'MISC' es de tipo: object\n",
      "La columna 'state' es de tipo: object\n",
      "La columna 'relative_results' es de tipo: object\n",
      "La columna 'url' es de tipo: object\n"
     ]
    }
   ],
   "source": [
    "columnas_metadata = metadatos_sitio.columns.tolist()\n",
    "for columna in columnas_metadata:\n",
    "    print(f\"La columna '{columna}' es de tipo: {metadatos_sitio[columna].dtype}\")"
   ]
  },
  {
   "cell_type": "markdown",
   "metadata": {},
   "source": [
    " Ahora observamos la cantidad de nulos por Columna:"
   ]
  },
  {
   "cell_type": "code",
   "execution_count": 8,
   "metadata": {},
   "outputs": [
    {
     "data": {
      "text/plain": [
       "name                    37\n",
       "address              80511\n",
       "gmap_id                  0\n",
       "latitude                 0\n",
       "longitude                0\n",
       "category             17419\n",
       "avg_rating               0\n",
       "num_of_reviews           0\n",
       "hours               787405\n",
       "MISC                690834\n",
       "state               746455\n",
       "relative_results    295058\n",
       "url                      0\n",
       "dtype: int64"
      ]
     },
     "execution_count": 8,
     "metadata": {},
     "output_type": "execute_result"
    }
   ],
   "source": [
    "metadatos_sitio.isna().sum()"
   ]
  },
  {
   "cell_type": "markdown",
   "metadata": {},
   "source": [
    "Lo vemos con un grafico de barras apiladas el total de nulos por columna:"
   ]
  },
  {
   "cell_type": "code",
   "execution_count": 9,
   "metadata": {},
   "outputs": [],
   "source": [
    "nombres = metadatos_sitio.columns.tolist()"
   ]
  },
  {
   "cell_type": "code",
   "execution_count": 10,
   "metadata": {},
   "outputs": [],
   "source": [
    "nulos = metadatos_sitio.isna().sum()\n",
    "nulos = nulos.iloc[:].tolist()"
   ]
  },
  {
   "cell_type": "code",
   "execution_count": 11,
   "metadata": {},
   "outputs": [],
   "source": [
    "total_filas = 3025011 "
   ]
  },
  {
   "cell_type": "code",
   "execution_count": 12,
   "metadata": {},
   "outputs": [
    {
     "data": {
      "image/png": "[encoded data removed]",
      "text/plain": [
       "<Figure size 1000x600 with 1 Axes>"
      ]
     },
     "metadata": {},
     "output_type": "display_data"
    }
   ],
   "source": [
    "sns.set(style=\"whitegrid\")\n",
    "plt.figure(figsize=(10, 6))  \n",
    "sns.barplot(x= nombres, y= total_filas, color='skyblue', label='Filas Totales')\n",
    "sns.barplot(x= nombres, y= nulos, color='orange', label='Filas nulas')\n",
    "plt.xlabel('Columnas', fontsize=14)\n",
    "plt.ylabel('Cantidad nulos', fontsize=14)\n",
    "plt.title('Cantidad de nulos por columna', fontsize=16)\n",
    "plt.legend()\n",
    "plt.xticks(rotation=45, ha='right')\n",
    "plt.show()"
   ]
  },
  {
   "cell_type": "markdown",
   "metadata": {},
   "source": [
    "Ahora verificamos duplicados con las columnas no anidadas:"
   ]
  },
  {
   "cell_type": "code",
   "execution_count": 13,
   "metadata": {},
   "outputs": [],
   "source": [
    "# Establecemos las columnas no anidadas\n",
    "columnas_a_verificar = ['name', 'address', 'gmap_id', 'latitude', 'longitude', 'avg_rating', 'num_of_reviews','state','url']"
   ]
  },
  {
   "cell_type": "code",
   "execution_count": 14,
   "metadata": {},
   "outputs": [
    {
     "name": "stdout",
     "output_type": "stream",
     "text": [
      "La cantidad de duplicados: 26583\n"
     ]
    }
   ],
   "source": [
    "print(f'La cantidad de duplicados: {metadatos_sitio[columnas_a_verificar].duplicated().sum()}')"
   ]
  },
  {
   "cell_type": "markdown",
   "metadata": {},
   "source": [
    "Ahora vemos algunas apreciaciones como la cantidad de hoteles por promedio de raiting:"
   ]
  },
  {
   "cell_type": "code",
   "execution_count": 15,
   "metadata": {},
   "outputs": [],
   "source": [
    "# creamos un dataframe donde duplicados las filas de acuerdo a la cantidad de subcampos que hay en la columna review\n",
    "metadatos_sitio_separado = metadatos_sitio.explode(column= \"category\") "
   ]
  },
  {
   "cell_type": "code",
   "execution_count": 16,
   "metadata": {},
   "outputs": [],
   "source": [
    "# Nos quedamos con los hoteles\n",
    "metadatos_sitio__hotel = metadatos_sitio_separado[metadatos_sitio_separado['category'] == 'Hotel']"
   ]
  },
  {
   "cell_type": "code",
   "execution_count": 17,
   "metadata": {},
   "outputs": [
    {
     "data": {
      "image/png": "[encoded data removed]",
      "text/plain": [
       "<Figure size 800x600 with 1 Axes>"
      ]
     },
     "metadata": {},
     "output_type": "display_data"
    }
   ],
   "source": [
    "# Lo vemos graficamente:\n",
    "plt.figure(figsize=(8, 6))\n",
    "sns.histplot(x='avg_rating' ,data = metadatos_sitio__hotel, bins=30, kde=True, color='red')\n",
    "plt.xlabel('Raiting Promedio', fontsize=14)\n",
    "plt.ylabel('Numero de Hoteles', fontsize=14)\n",
    "plt.title('Cantidad de Hoteles por Rating promedio', fontsize=16)\n",
    "plt.show()"
   ]
  },
  {
   "cell_type": "markdown",
   "metadata": {},
   "source": [
    "Podemos ver una gran cantidad de hoteles en estos Estados tienen un promedio de 5 estrellas valoradas por los usuarios"
   ]
  },
  {
   "cell_type": "markdown",
   "metadata": {},
   "source": [
    "## Datasets Estados"
   ]
  },
  {
   "cell_type": "markdown",
   "metadata": {},
   "source": [
    "Leemos los datasets que ya posteriormente unimos porque venian en diferentes json y les eliminamos las columnas 'pics'y 'resp' por ser inecesarias y contener una gran cantidad de valores nulos."
   ]
  },
  {
   "cell_type": "code",
   "execution_count": 19,
   "metadata": {},
   "outputs": [],
   "source": [
    "# California:\n",
    "California = pd.read_parquet('../Dataset Final Google/Reviews Estados/California.parquet')\n",
    "\n",
    "# Florida:\n",
    "Florida = pd.read_parquet('../Dataset Final Google/Reviews Estados/Florida.parquet')\n",
    "\n",
    "# Georgia:\n",
    "Georgia = pd.read_parquet('../Dataset Final Google/Reviews Estados/Georgia.parquet')\n",
    "\n",
    "# Kansas:\n",
    "Kansas = pd.read_parquet('../Dataset Final Google/Reviews Estados/Kansas.parquet')\n",
    "\n",
    "# Massachusetts:\n",
    "Massachusetts = pd.read_parquet('../Dataset Final Google/Reviews Estados/Massachusetts.parquet')\n",
    "\n",
    "# Missouri:\n",
    "Missouri = pd.read_parquet('../Dataset Final Google/Reviews Estados/Missouri.parquet')\n",
    "\n",
    "# New_Jersey:\n",
    "New_Jersey = pd.read_parquet('../Dataset Final Google/Reviews Estados/New_Jersey.parquet')\n",
    "\n",
    "# New_York\n",
    "New_York = pd.read_parquet('../Dataset Final Google/Reviews Estados/New_York.parquet')\n",
    "\n",
    "# Pensilvania\n",
    "Pensilvania = pd.read_parquet('../Dataset Final Google/Reviews Estados/Pensilvania.parquet')\n",
    "\n",
    "# Texas:\n",
    "Texas = pd.read_parquet('../Dataset Final Google/Reviews Estados/Texas.parquet')\n",
    "\n",
    "# Washington:\n",
    "Washington = pd.read_parquet('../Dataset Final Google/Reviews Estados/Washington.parquet')"
   ]
  },
  {
   "cell_type": "markdown",
   "metadata": {},
   "source": [
    "Ahora vemos informacion general de todos los estados:\n"
   ]
  },
  {
   "cell_type": "code",
   "execution_count": 20,
   "metadata": {},
   "outputs": [
    {
     "name": "stdout",
     "output_type": "stream",
     "text": [
      "California:\n",
      "<class 'pandas.core.frame.DataFrame'>\n",
      "RangeIndex: 2700000 entries, 0 to 2699999\n",
      "Data columns (total 6 columns):\n",
      " #   Column   Dtype  \n",
      "---  ------   -----  \n",
      " 0   user_id  float64\n",
      " 1   name     object \n",
      " 2   time     int64  \n",
      " 3   rating   int64  \n",
      " 4   text     object \n",
      " 5   gmap_id  object \n",
      "dtypes: float64(1), int64(2), object(3)\n",
      "memory usage: 123.6+ MB\n",
      "None \n",
      "\n",
      "Geogia:\n",
      "<class 'pandas.core.frame.DataFrame'>\n",
      "RangeIndex: 1950000 entries, 0 to 1949999\n",
      "Data columns (total 6 columns):\n",
      " #   Column   Dtype  \n",
      "---  ------   -----  \n",
      " 0   user_id  float64\n",
      " 1   name     object \n",
      " 2   time     int64  \n",
      " 3   rating   int64  \n",
      " 4   text     object \n",
      " 5   gmap_id  object \n",
      "dtypes: float64(1), int64(2), object(3)\n",
      "memory usage: 89.3+ MB\n",
      "None \n",
      "\n",
      "Kansas:\n",
      "<class 'pandas.core.frame.DataFrame'>\n",
      "RangeIndex: 1950000 entries, 0 to 1949999\n",
      "Data columns (total 6 columns):\n",
      " #   Column   Dtype  \n",
      "---  ------   -----  \n",
      " 0   user_id  float64\n",
      " 1   name     object \n",
      " 2   time     int64  \n",
      " 3   rating   int64  \n",
      " 4   text     object \n",
      " 5   gmap_id  object \n",
      "dtypes: float64(1), int64(2), object(3)\n",
      "memory usage: 89.3+ MB\n",
      "None \n",
      "\n",
      "Massachusetts:\n",
      "<class 'pandas.core.frame.DataFrame'>\n",
      "RangeIndex: 2400000 entries, 0 to 2399999\n",
      "Data columns (total 6 columns):\n",
      " #   Column   Dtype  \n",
      "---  ------   -----  \n",
      " 0   user_id  float64\n",
      " 1   name     object \n",
      " 2   time     int64  \n",
      " 3   rating   int64  \n",
      " 4   text     object \n",
      " 5   gmap_id  object \n",
      "dtypes: float64(1), int64(2), object(3)\n",
      "memory usage: 109.9+ MB\n",
      "None \n",
      "\n",
      "New Jersey:\n",
      "<class 'pandas.core.frame.DataFrame'>\n",
      "RangeIndex: 1950000 entries, 0 to 1949999\n",
      "Data columns (total 6 columns):\n",
      " #   Column   Dtype  \n",
      "---  ------   -----  \n",
      " 0   user_id  float64\n",
      " 1   name     object \n",
      " 2   time     int64  \n",
      " 3   rating   int64  \n",
      " 4   text     object \n",
      " 5   gmap_id  object \n",
      "dtypes: float64(1), int64(2), object(3)\n",
      "memory usage: 89.3+ MB\n",
      "None \n",
      "\n",
      "Missouri:\n",
      "<class 'pandas.core.frame.DataFrame'>\n",
      "RangeIndex: 1650000 entries, 0 to 1649999\n",
      "Data columns (total 6 columns):\n",
      " #   Column   Non-Null Count    Dtype  \n",
      "---  ------   --------------    -----  \n",
      " 0   user_id  1650000 non-null  float64\n",
      " 1   name     1650000 non-null  object \n",
      " 2   time     1650000 non-null  int64  \n",
      " 3   rating   1650000 non-null  int64  \n",
      " 4   text     952732 non-null   object \n",
      " 5   gmap_id  1650000 non-null  object \n",
      "dtypes: float64(1), int64(2), object(3)\n",
      "memory usage: 75.5+ MB\n",
      "None \n",
      "\n",
      "New York:\n",
      "<class 'pandas.core.frame.DataFrame'>\n",
      "RangeIndex: 2700000 entries, 0 to 2699999\n",
      "Data columns (total 6 columns):\n",
      " #   Column   Dtype  \n",
      "---  ------   -----  \n",
      " 0   user_id  float64\n",
      " 1   name     object \n",
      " 2   time     int64  \n",
      " 3   rating   int64  \n",
      " 4   text     object \n",
      " 5   gmap_id  object \n",
      "dtypes: float64(1), int64(2), object(3)\n",
      "memory usage: 123.6+ MB\n",
      "None \n",
      "\n",
      "Texas:\n",
      "<class 'pandas.core.frame.DataFrame'>\n",
      "RangeIndex: 2296824 entries, 0 to 2296823\n",
      "Data columns (total 6 columns):\n",
      " #   Column   Dtype  \n",
      "---  ------   -----  \n",
      " 0   user_id  float64\n",
      " 1   name     object \n",
      " 2   time     int64  \n",
      " 3   rating   int64  \n",
      " 4   text     object \n",
      " 5   gmap_id  object \n",
      "dtypes: float64(1), int64(2), object(3)\n",
      "memory usage: 105.1+ MB\n",
      "None \n",
      "\n",
      "Florida:\n",
      "<class 'pandas.core.frame.DataFrame'>\n",
      "RangeIndex: 2700000 entries, 0 to 2699999\n",
      "Data columns (total 6 columns):\n",
      " #   Column   Dtype  \n",
      "---  ------   -----  \n",
      " 0   user_id  float64\n",
      " 1   name     object \n",
      " 2   time     int64  \n",
      " 3   rating   int64  \n",
      " 4   text     object \n",
      " 5   gmap_id  object \n",
      "dtypes: float64(1), int64(2), object(3)\n",
      "memory usage: 123.6+ MB\n",
      "None \n",
      "\n",
      "Pensilvania:\n",
      "<class 'pandas.core.frame.DataFrame'>\n",
      "RangeIndex: 2400000 entries, 0 to 2399999\n",
      "Data columns (total 6 columns):\n",
      " #   Column   Dtype  \n",
      "---  ------   -----  \n",
      " 0   user_id  float64\n",
      " 1   name     object \n",
      " 2   time     int64  \n",
      " 3   rating   int64  \n",
      " 4   text     object \n",
      " 5   gmap_id  object \n",
      "dtypes: float64(1), int64(2), object(3)\n",
      "memory usage: 109.9+ MB\n",
      "None \n",
      "\n",
      "Washington:\n",
      "<class 'pandas.core.frame.DataFrame'>\n",
      "RangeIndex: 1942020 entries, 0 to 1942019\n",
      "Data columns (total 6 columns):\n",
      " #   Column   Dtype  \n",
      "---  ------   -----  \n",
      " 0   user_id  float64\n",
      " 1   name     object \n",
      " 2   time     int64  \n",
      " 3   rating   int64  \n",
      " 4   text     object \n",
      " 5   gmap_id  object \n",
      "dtypes: float64(1), int64(2), object(3)\n",
      "memory usage: 88.9+ MB\n",
      "None \n",
      "\n"
     ]
    }
   ],
   "source": [
    "print('California:')\n",
    "print(California.info(), '\\n')\n",
    "\n",
    "print('Geogia:')\n",
    "print(Georgia.info(), '\\n')\n",
    "\n",
    "print('Kansas:')\n",
    "print(Kansas.info(), '\\n')\n",
    "\n",
    "print('Massachusetts:')\n",
    "print(Massachusetts.info(), '\\n')\n",
    "\n",
    "print('New Jersey:')\n",
    "print(New_Jersey.info(), '\\n')\n",
    "\n",
    "print('Missouri:')\n",
    "print(Missouri.info(), '\\n')\n",
    "\n",
    "print('New York:')\n",
    "print(New_York.info(), '\\n')\n",
    "\n",
    "print('Texas:')\n",
    "print(Texas.info(), '\\n')\n",
    "\n",
    "print('Florida:')\n",
    "print(Florida.info(), '\\n')\n",
    "\n",
    "print('Pensilvania:')\n",
    "print(Pensilvania.info(),'\\n')\n",
    "\n",
    "print('Washington:')\n",
    "print(Washington.info(), '\\n')\n"
   ]
  },
  {
   "cell_type": "markdown",
   "metadata": {},
   "source": [
    "Notamos que todos los datasets tienen las mismas 7 columnas que son: 'User_id', 'name', 'time', 'rating', 'text' y 'game_id'.\n",
    "Con respecto a los registros los datasets de los estados tienen:\n",
    "* California: 2700000 \n",
    "* Florida: 2850000 \n",
    "* Washington: 1942020 \n",
    "* Kansas: 1950000 \n",
    "* Missouri: 1650000 \n",
    "* Texas: 2296824 \n",
    "* Pennsylvania: 2400000 \n",
    "* New York: 2700000 \n",
    "* New Jersey: 1950000 \n",
    "* Massachusetts: 2400000 \n",
    "* Georgia: 1950000 "
   ]
  },
  {
   "cell_type": "markdown",
   "metadata": {},
   "source": [
    "Vemos la cantidad de reviews por estado graficamente con un grafico de barras:"
   ]
  },
  {
   "cell_type": "code",
   "execution_count": 21,
   "metadata": {},
   "outputs": [],
   "source": [
    "# Sacamos la cantidad de filas por Estado y lo agregamos a variables:\n",
    "California_cantidad = len(California)\n",
    "Florida_cantidad = len(Florida)\n",
    "Georgia_cantidad = len(Georgia)\n",
    "Kansas_cantidad = len(Kansas)\n",
    "Massachusetts_cantidad = len(Massachusetts)\n",
    "Missouri_cantidad = len(Missouri)\n",
    "New_Jersey_cantidad = len(New_Jersey)\n",
    "New_York_cantidad = len(New_York)\n",
    "Pensilvania_cantidad = len(Pensilvania)\n",
    "Texas_cantidad = len(Texas)\n",
    "Washington_cantidad = len(Washington)"
   ]
  },
  {
   "cell_type": "code",
   "execution_count": 22,
   "metadata": {},
   "outputs": [],
   "source": [
    "revies_cantidad = [California_cantidad, Florida_cantidad, Georgia_cantidad, Kansas_cantidad, Massachusetts_cantidad, Missouri_cantidad, New_Jersey_cantidad, New_York_cantidad, Pensilvania_cantidad, Texas_cantidad, Washington_cantidad]\n",
    "nombres = ['California', 'Florida','Georgia', 'Kansas', 'Massachusetts',  'Missouri', 'New_Jersey', 'New_York', 'Pensilvania', 'Texas', 'Washington']"
   ]
  },
  {
   "cell_type": "code",
   "execution_count": 23,
   "metadata": {},
   "outputs": [
    {
     "name": "stderr",
     "output_type": "stream",
     "text": [
      "C:\\Users\\patri\\AppData\\Local\\Temp\\ipykernel_10796\\3600376057.py:2: FutureWarning: \n",
      "\n",
      "Passing `palette` without assigning `hue` is deprecated and will be removed in v0.14.0. Assign the `x` variable to `hue` and set `legend=False` for the same effect.\n",
      "\n",
      "  sns.barplot(x= nombres, y= revies_cantidad , palette='viridis')\n"
     ]
    },
    {
     "data": {
      "image/png": "[encoded data removed]",
      "text/plain": [
       "<Figure size 800x600 with 1 Axes>"
      ]
     },
     "metadata": {},
     "output_type": "display_data"
    }
   ],
   "source": [
    "plt.figure(figsize=(8, 6))  \n",
    "sns.barplot(x= nombres, y= revies_cantidad , palette='viridis')\n",
    "plt.xlabel('Estados', fontsize=14)\n",
    "plt.ylabel('Cantidad de reviews en millones', fontsize=14)\n",
    "plt.title('Cantidad de reviews por estado', fontsize=16)\n",
    "plt.xticks(rotation=45, ha='right')\n",
    "plt.show()"
   ]
  },
  {
   "cell_type": "markdown",
   "metadata": {},
   "source": [
    "Podemos observar que las reviews de los estados van de entre 1.5 a 2.5 millones aproximadamente, los cuales nos va a permitir tener un buen recurso de datos para el proyecto."
   ]
  },
  {
   "cell_type": "markdown",
   "metadata": {},
   "source": [
    "Hacemos un viztazo mas cercano sobre una de las bases de datos para ver las columnas, en este caso usamos California ya que todos los Estados tienen la misma estructura:"
   ]
  },
  {
   "cell_type": "code",
   "execution_count": 24,
   "metadata": {},
   "outputs": [
    {
     "data": {
      "text/html": [
       "<div>\n",
       "<style scoped>\n",
       "    .dataframe tbody tr th:only-of-type {\n",
       "        vertical-align: middle;\n",
       "    }\n",
       "\n",
       "    .dataframe tbody tr th {\n",
       "        vertical-align: top;\n",
       "    }\n",
       "\n",
       "    .dataframe thead th {\n",
       "        text-align: right;\n",
       "    }\n",
       "</style>\n",
       "<table border=\"1\" class=\"dataframe\">\n",
       "  <thead>\n",
       "    <tr style=\"text-align: right;\">\n",
       "      <th></th>\n",
       "      <th>user_id</th>\n",
       "      <th>name</th>\n",
       "      <th>time</th>\n",
       "      <th>rating</th>\n",
       "      <th>text</th>\n",
       "      <th>gmap_id</th>\n",
       "    </tr>\n",
       "  </thead>\n",
       "  <tbody>\n",
       "    <tr>\n",
       "      <th>0</th>\n",
       "      <td>1.089912e+20</td>\n",
       "      <td>Song Ro</td>\n",
       "      <td>1609909927056</td>\n",
       "      <td>5</td>\n",
       "      <td>Love there korean rice cake.</td>\n",
       "      <td>0x80c2c778e3b73d33:0xbdc58662a4a97d49</td>\n",
       "    </tr>\n",
       "    <tr>\n",
       "      <th>1</th>\n",
       "      <td>1.112903e+20</td>\n",
       "      <td>Rafa Robles</td>\n",
       "      <td>1612849648663</td>\n",
       "      <td>5</td>\n",
       "      <td>Good very good</td>\n",
       "      <td>0x80c2c778e3b73d33:0xbdc58662a4a97d49</td>\n",
       "    </tr>\n",
       "    <tr>\n",
       "      <th>2</th>\n",
       "      <td>1.126404e+20</td>\n",
       "      <td>David Han</td>\n",
       "      <td>1583643882296</td>\n",
       "      <td>4</td>\n",
       "      <td>They make Korean traditional food very properly.</td>\n",
       "      <td>0x80c2c778e3b73d33:0xbdc58662a4a97d49</td>\n",
       "    </tr>\n",
       "    <tr>\n",
       "      <th>3</th>\n",
       "      <td>1.174403e+20</td>\n",
       "      <td>Anthony Kim</td>\n",
       "      <td>1551938216355</td>\n",
       "      <td>5</td>\n",
       "      <td>Short ribs are very delicious.</td>\n",
       "      <td>0x80c2c778e3b73d33:0xbdc58662a4a97d49</td>\n",
       "    </tr>\n",
       "    <tr>\n",
       "      <th>4</th>\n",
       "      <td>1.005808e+20</td>\n",
       "      <td>Mario Marzouk</td>\n",
       "      <td>1494910901933</td>\n",
       "      <td>5</td>\n",
       "      <td>Great food and prices the portions are large</td>\n",
       "      <td>0x80c2c778e3b73d33:0xbdc58662a4a97d49</td>\n",
       "    </tr>\n",
       "  </tbody>\n",
       "</table>\n",
       "</div>"
      ],
      "text/plain": [
       "        user_id           name           time  rating  \\\n",
       "0  1.089912e+20        Song Ro  1609909927056       5   \n",
       "1  1.112903e+20    Rafa Robles  1612849648663       5   \n",
       "2  1.126404e+20      David Han  1583643882296       4   \n",
       "3  1.174403e+20    Anthony Kim  1551938216355       5   \n",
       "4  1.005808e+20  Mario Marzouk  1494910901933       5   \n",
       "\n",
       "                                               text  \\\n",
       "0                      Love there korean rice cake.   \n",
       "1                                    Good very good   \n",
       "2  They make Korean traditional food very properly.   \n",
       "3                    Short ribs are very delicious.   \n",
       "4      Great food and prices the portions are large   \n",
       "\n",
       "                                 gmap_id  \n",
       "0  0x80c2c778e3b73d33:0xbdc58662a4a97d49  \n",
       "1  0x80c2c778e3b73d33:0xbdc58662a4a97d49  \n",
       "2  0x80c2c778e3b73d33:0xbdc58662a4a97d49  \n",
       "3  0x80c2c778e3b73d33:0xbdc58662a4a97d49  \n",
       "4  0x80c2c778e3b73d33:0xbdc58662a4a97d49  "
      ]
     },
     "execution_count": 24,
     "metadata": {},
     "output_type": "execute_result"
    }
   ],
   "source": [
    "California.head()"
   ]
  },
  {
   "cell_type": "markdown",
   "metadata": {},
   "source": [
    "Vemos los tipos de datos que comparten las columnas:"
   ]
  },
  {
   "cell_type": "code",
   "execution_count": 25,
   "metadata": {},
   "outputs": [
    {
     "name": "stdout",
     "output_type": "stream",
     "text": [
      "La columna 'user_id' es de tipo: float64 es numerica-continua \n",
      "\n",
      "La columna 'name' es de tipo: object, y es una variable de texto \n",
      "\n",
      "La columna 'rating' es de tipo: int64, es una variable categorica-ordinal \n",
      "\n",
      "La columna 'text' es de tipo: object, es una variable de texto \n",
      "\n",
      "La columna 'gmap_id' es de tipo: object, es una variable de texto \n",
      "\n"
     ]
    }
   ],
   "source": [
    "print(f\"La columna 'user_id' es de tipo: {California['user_id'].dtype} es numerica-continua\", '\\n')\n",
    "\n",
    "print(f\"La columna 'name' es de tipo: {California['name'].dtype}, y es una variable de texto\", '\\n')\n",
    "\n",
    "print(f\"La columna 'rating' es de tipo: {California['rating'].dtype}, es una variable categorica-ordinal\" , '\\n')\n",
    "\n",
    "print(f\"La columna 'text' es de tipo: {California['text'].dtype}, es una variable de texto\", '\\n')\n",
    "\n",
    "print(f\"La columna 'gmap_id' es de tipo: {California['gmap_id'].dtype}, es una variable de texto\", '\\n')"
   ]
  },
  {
   "cell_type": "markdown",
   "metadata": {},
   "source": [
    "Vemos la cantidad de nulos por estado:"
   ]
  },
  {
   "cell_type": "code",
   "execution_count": 26,
   "metadata": {},
   "outputs": [
    {
     "name": "stdout",
     "output_type": "stream",
     "text": [
      "California nulos:\n"
     ]
    },
    {
     "name": "stdout",
     "output_type": "stream",
     "text": [
      "user_id          0\n",
      "name             0\n",
      "time             0\n",
      "rating           0\n",
      "text       1170964\n",
      "gmap_id          0\n",
      "dtype: int64 \n",
      "\n",
      "Georgia nulos:\n",
      "user_id         0\n",
      "name            0\n",
      "time            0\n",
      "rating          0\n",
      "text       800503\n",
      "gmap_id         0\n",
      "dtype: int64 \n",
      "\n",
      "Kansas nulos:\n",
      "user_id         0\n",
      "name            0\n",
      "time            0\n",
      "rating          0\n",
      "text       900604\n",
      "gmap_id         0\n",
      "dtype: int64 \n",
      "\n",
      "Massachusetts nulos:\n",
      "user_id          0\n",
      "name             0\n",
      "time             0\n",
      "rating           0\n",
      "text       1128070\n",
      "gmap_id          0\n",
      "dtype: int64 \n",
      "\n",
      "New Jersey nulos:\n",
      "user_id         0\n",
      "name            0\n",
      "time            0\n",
      "rating          0\n",
      "text       864336\n",
      "gmap_id         0\n",
      "dtype: int64 \n",
      "\n",
      "Missouri nulos:\n",
      "user_id         0\n",
      "name            0\n",
      "time            0\n",
      "rating          0\n",
      "text       697268\n",
      "gmap_id         0\n",
      "dtype: int64 \n",
      "\n",
      "New York nulos:\n",
      "user_id          0\n",
      "name             0\n",
      "time             0\n",
      "rating           0\n",
      "text       1163593\n",
      "gmap_id          0\n",
      "dtype: int64 \n",
      "\n",
      "Texas nulos:\n",
      "user_id         0\n",
      "name            0\n",
      "time            0\n",
      "rating          0\n",
      "text       919209\n",
      "gmap_id         0\n",
      "dtype: int64 \n",
      "\n",
      "Florida nulos:\n",
      "user_id          0\n",
      "name             0\n",
      "time             0\n",
      "rating           0\n",
      "text       1026137\n",
      "gmap_id          0\n",
      "dtype: int64 \n",
      "\n",
      "Pensilvania nulos:\n",
      "user_id          0\n",
      "name             0\n",
      "time             0\n",
      "rating           0\n",
      "text       1041386\n",
      "gmap_id          0\n",
      "dtype: int64 \n",
      "\n",
      "Washington nulos:\n",
      "<class 'pandas.core.frame.DataFrame'>\n",
      "RangeIndex: 1942020 entries, 0 to 1942019\n",
      "Data columns (total 6 columns):\n",
      " #   Column   Dtype  \n",
      "---  ------   -----  \n",
      " 0   user_id  float64\n",
      " 1   name     object \n",
      " 2   time     int64  \n",
      " 3   rating   int64  \n",
      " 4   text     object \n",
      " 5   gmap_id  object \n",
      "dtypes: float64(1), int64(2), object(3)\n",
      "memory usage: 88.9+ MB\n",
      "None \n",
      "\n"
     ]
    }
   ],
   "source": [
    "print('California nulos:')\n",
    "print(California.isna().sum(), '\\n')\n",
    "\n",
    "print('Georgia nulos:')\n",
    "print(Georgia.isna().sum(), '\\n')\n",
    "\n",
    "print('Kansas nulos:')\n",
    "print(Kansas.isna().sum(), '\\n')\n",
    "\n",
    "print('Massachusetts nulos:')\n",
    "print(Massachusetts.isna().sum(), '\\n')\n",
    "\n",
    "print('New Jersey nulos:')\n",
    "print(New_Jersey.isna().sum(), '\\n')\n",
    "\n",
    "print('Missouri nulos:')\n",
    "print(Missouri.isna().sum(), '\\n')\n",
    "\n",
    "print('New York nulos:')\n",
    "print(New_York.isna().sum(), '\\n')\n",
    "\n",
    "print('Texas nulos:')\n",
    "print(Texas.isna().sum(), '\\n')\n",
    "\n",
    "print('Florida nulos:')\n",
    "print(Florida.isna().sum(), '\\n')\n",
    "\n",
    "print('Pensilvania nulos:')\n",
    "print(Pensilvania.isna().sum(),'\\n')\n",
    "\n",
    "print('Washington nulos:')\n",
    "print(Washington.info(), '\\n')"
   ]
  },
  {
   "cell_type": "markdown",
   "metadata": {},
   "source": [
    "Podemos notar que en todos los Estados la columna 'text' tiene muchos nulos. Tambien vemos la cantidad de duplicados:"
   ]
  },
  {
   "cell_type": "code",
   "execution_count": 27,
   "metadata": {},
   "outputs": [
    {
     "name": "stdout",
     "output_type": "stream",
     "text": [
      "California duplicados: 75243 \n",
      "\n",
      "Georgia duplicados: 54580 \n",
      "\n",
      "Kansas duplicados: 22062 \n",
      "\n",
      "Massachusetts duplicados: 19702 \n",
      "\n",
      "New Jersey duplicados: 30095 \n",
      "\n",
      "Missouri duplicados: 29950 \n",
      "\n",
      "New York duplicados: 59337 \n",
      "\n",
      "Texas duplicados: 61384 \n",
      "\n",
      "Florida duplicados: 108640 \n",
      "\n",
      "Pensilvania duplicados: 33568 \n",
      "\n",
      "Washington duplicados: 35592 \n",
      "\n"
     ]
    }
   ],
   "source": [
    "print(f'California duplicados: {California.duplicated().sum()}', '\\n')\n",
    "\n",
    "print(f'Georgia duplicados: {Georgia.duplicated().sum()}', '\\n')\n",
    "\n",
    "print(f'Kansas duplicados: {Kansas.duplicated().sum()}', '\\n')\n",
    "\n",
    "print(f'Massachusetts duplicados: {Massachusetts.duplicated().sum()}', '\\n')\n",
    "\n",
    "print(f'New Jersey duplicados: {New_Jersey.duplicated().sum()}', '\\n')\n",
    "\n",
    "print(f'Missouri duplicados: {Missouri.duplicated().sum()}', '\\n')\n",
    "\n",
    "print(f'New York duplicados: {New_York.duplicated().sum()}', '\\n')\n",
    "\n",
    "print(f'Texas duplicados: {Texas.duplicated().sum()}', '\\n')\n",
    "\n",
    "print(f'Florida duplicados: {Florida.duplicated().sum()}', '\\n')\n",
    "\n",
    "print(f'Pensilvania duplicados: {Pensilvania.duplicated().sum()}', '\\n')\n",
    "\n",
    "print(f'Washington duplicados: {Washington.duplicated().sum()}', '\\n')"
   ]
  }
 ],
 "metadata": {
  "kernelspec": {
   "display_name": "Python 3",
   "language": "python",
   "name": "python3"
  },
  "language_info": {
   "codemirror_mode": {
    "name": "ipython",
    "version": 3
   },
   "file_extension": ".py",
   "mimetype": "text/x-python",
   "name": "python",
   "nbconvert_exporter": "python",
   "pygments_lexer": "ipython3",
   "version": "3.12.2"
  }
 },
 "nbformat": 4,
 "nbformat_minor": 2
}
