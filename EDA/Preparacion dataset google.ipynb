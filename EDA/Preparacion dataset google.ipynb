{
 "cells": [
  {
   "cell_type": "code",
   "execution_count": 1,
   "metadata": {},
   "outputs": [],
   "source": [
    "import pandas as pd\n",
    "import numpy as np"
   ]
  },
  {
   "cell_type": "markdown",
   "metadata": {},
   "source": [
    "Creamos la funcion para leer los datasets y concatenarlos ya que cada datasets viene en multiples archivos JSON"
   ]
  },
  {
   "cell_type": "code",
   "execution_count": 2,
   "metadata": {},
   "outputs": [],
   "source": [
    "def leer_y_concatenar(lista_direcciones): # Tomar como parametro lista de direcciones de los archivos\n",
    "    lista_dataframes = [pd.read_json(ruta, lines=True) for ruta in lista_direcciones] # Leer archivos JSON y alamacenar en una lista\n",
    "    resultado = pd.concat(lista_dataframes, ignore_index=True) # Concatenar Dataframe de cada estado \n",
    "    return resultado # Retorna el Dataframe concatenado"
   ]
  },
  {
   "cell_type": "markdown",
   "metadata": {},
   "source": [
    "# DATASET METADATA"
   ]
  },
  {
   "cell_type": "code",
   "execution_count": 3,
   "metadata": {},
   "outputs": [],
   "source": [
    "rutas_metadata = [\n",
    "    '../Dataset original/metadata-sitios/1.json',\n",
    "    '../Dataset original/metadata-sitios/2.json',\n",
    "    '../Dataset original/metadata-sitios/3.json',\n",
    "    '../Dataset original/metadata-sitios/4.json',\n",
    "    '../Dataset original/metadata-sitios/5.json',\n",
    "    '../Dataset original/metadata-sitios/6.json',\n",
    "    '../Dataset original/metadata-sitios/7.json',\n",
    "    '../Dataset original/metadata-sitios/8.json',\n",
    "    '../Dataset original/metadata-sitios/9.json',\n",
    "    '../Dataset original/metadata-sitios/10.json',\n",
    "    '../Dataset original/metadata-sitios/11.json'\n",
    "]"
   ]
  },
  {
   "cell_type": "code",
   "execution_count": 4,
   "metadata": {},
   "outputs": [],
   "source": [
    "metadata_sitios = leer_y_concatenar(rutas_metadata)"
   ]
  },
  {
   "cell_type": "markdown",
   "metadata": {},
   "source": [
    "Observamos las columnas y la cantidad de nulos:"
   ]
  },
  {
   "cell_type": "code",
   "execution_count": 5,
   "metadata": {},
   "outputs": [
    {
     "data": {
      "text/plain": [
       "name                     37\n",
       "address               80511\n",
       "gmap_id                   0\n",
       "description         2770722\n",
       "latitude                  0\n",
       "longitude                 0\n",
       "category              17419\n",
       "avg_rating                0\n",
       "num_of_reviews            0\n",
       "price               2749808\n",
       "hours                787405\n",
       "MISC                 690834\n",
       "state                746455\n",
       "relative_results     295058\n",
       "url                       0\n",
       "dtype: int64"
      ]
     },
     "execution_count": 5,
     "metadata": {},
     "output_type": "execute_result"
    }
   ],
   "source": [
    "metadata_sitios.isna().sum()"
   ]
  },
  {
   "cell_type": "markdown",
   "metadata": {},
   "source": [
    "Borraros las columnas description y price porque tiene muchos nulos y no nos seran necesarias:"
   ]
  },
  {
   "cell_type": "code",
   "execution_count": null,
   "metadata": {},
   "outputs": [],
   "source": [
    "metadata_sitios.drop(columns=['description','price'], inplace = True)"
   ]
  },
  {
   "cell_type": "markdown",
   "metadata": {},
   "source": [
    "Grardamos el dataframe arreglada:"
   ]
  },
  {
   "cell_type": "code",
   "execution_count": null,
   "metadata": {},
   "outputs": [],
   "source": [
    "metadata_sitios.to_parquet('../Dataset Final Google/Metadata Sitios/metadata_sitios.parquet',compression='gzip')"
   ]
  },
  {
   "cell_type": "markdown",
   "metadata": {},
   "source": [
    "# DATASET ESTADOS"
   ]
  },
  {
   "cell_type": "markdown",
   "metadata": {},
   "source": [
    "## California:"
   ]
  },
  {
   "cell_type": "code",
   "execution_count": 6,
   "metadata": {},
   "outputs": [],
   "source": [
    "rutas_California = [\n",
    "    '../Dataset original/review-California/1.json',\n",
    "    '../Dataset original/review-California/2.json',\n",
    "    '../Dataset original/review-California/3.json',\n",
    "    '../Dataset original/review-California/4.json',\n",
    "    '../Dataset original/review-California/5.json',\n",
    "    '../Dataset original/review-California/6.json',\n",
    "    '../Dataset original/review-California/7.json',\n",
    "    '../Dataset original/review-California/8.json',\n",
    "    '../Dataset original/review-California/9.json',\n",
    "    '../Dataset original/review-California/10.json',\n",
    "    '../Dataset original/review-California/11.json',\n",
    "    '../Dataset original/review-California/12.json',\n",
    "    '../Dataset original/review-California/13.json',\n",
    "    '../Dataset original/review-California/14.json',\n",
    "    '../Dataset original/review-California/15.json',\n",
    "    '../Dataset original/review-California/16.json',\n",
    "    '../Dataset original/review-California/17.json',\n",
    "    '../Dataset original/review-California/18.json'\n",
    "]"
   ]
  },
  {
   "cell_type": "code",
   "execution_count": 7,
   "metadata": {},
   "outputs": [],
   "source": [
    "California = leer_y_concatenar(rutas_California)"
   ]
  },
  {
   "cell_type": "markdown",
   "metadata": {},
   "source": [
    "Vemos las columnas que hay y sus nulos:"
   ]
  },
  {
   "cell_type": "code",
   "execution_count": 8,
   "metadata": {},
   "outputs": [
    {
     "data": {
      "text/plain": [
       "user_id          0\n",
       "name             0\n",
       "time             0\n",
       "rating           0\n",
       "text       1170964\n",
       "pics       2600710\n",
       "resp       2454831\n",
       "gmap_id          0\n",
       "dtype: int64"
      ]
     },
     "execution_count": 8,
     "metadata": {},
     "output_type": "execute_result"
    }
   ],
   "source": [
    "California.isna().sum()"
   ]
  },
  {
   "cell_type": "markdown",
   "metadata": {},
   "source": [
    "Notamos que hay varios nulos en la columnas 'text', 'pics' y 'resp', Sin embargo borramos las dos ultimas ya que son inecesarios. Esto tambien lo realizaremos con todos los estados:"
   ]
  },
  {
   "cell_type": "code",
   "execution_count": null,
   "metadata": {},
   "outputs": [],
   "source": [
    "California.drop(columns=['pics' ,'resp'], inplace=True)"
   ]
  },
  {
   "cell_type": "markdown",
   "metadata": {},
   "source": [
    "Guardamos"
   ]
  },
  {
   "cell_type": "code",
   "execution_count": null,
   "metadata": {},
   "outputs": [],
   "source": [
    "California.to_parquet('../Dataset Final Google/Reviews Estados/California.parquet',compression='gzip')"
   ]
  },
  {
   "cell_type": "markdown",
   "metadata": {},
   "source": [
    "## Florida"
   ]
  },
  {
   "cell_type": "code",
   "execution_count": null,
   "metadata": {},
   "outputs": [],
   "source": [
    "rutas_Florida = [\n",
    "    '../Dataset original/review-Florida/1.json',\n",
    "    '../Dataset original/review-Florida/2.json',\n",
    "    '../Dataset original/review-Florida/3.json',\n",
    "    '../Dataset original/review-Florida/4.json',\n",
    "    '../Dataset original/review-Florida/5.json',\n",
    "    '../Dataset original/review-Florida/6.json',\n",
    "    '../Dataset original/review-Florida/7.json',\n",
    "    '../Dataset original/review-Florida/8.json',\n",
    "    '../Dataset original/review-Florida/9.json',\n",
    "    '../Dataset original/review-Florida/10.json',\n",
    "    '../Dataset original/review-Florida/11.json',\n",
    "    '../Dataset original/review-Florida/12.json',\n",
    "    '../Dataset original/review-Florida/13.json',\n",
    "    '../Dataset original/review-Florida/14.json',\n",
    "    '../Dataset original/review-Florida/15.json',\n",
    "    '../Dataset original/review-Florida/16.json',\n",
    "    '../Dataset original/review-Florida/17.json',\n",
    "    '../Dataset original/review-Florida/18.json',\n",
    "    '../Dataset original/review-Florida/19.json'\n",
    "]"
   ]
  },
  {
   "cell_type": "code",
   "execution_count": null,
   "metadata": {},
   "outputs": [],
   "source": [
    "Florida = leer_y_concatenar(rutas_Florida)"
   ]
  },
  {
   "cell_type": "markdown",
   "metadata": {},
   "source": [
    "Borramos columnas inecesarias:"
   ]
  },
  {
   "cell_type": "code",
   "execution_count": null,
   "metadata": {},
   "outputs": [],
   "source": [
    "Florida.drop(columns=['pics' ,'resp'], inplace=True)"
   ]
  },
  {
   "cell_type": "markdown",
   "metadata": {},
   "source": [
    "Guardamos:"
   ]
  },
  {
   "cell_type": "code",
   "execution_count": null,
   "metadata": {},
   "outputs": [],
   "source": [
    "Florida.to_parquet('../Dataset Final Google/Reviews Estados/Florida.parquet',compression='gzip')"
   ]
  },
  {
   "cell_type": "markdown",
   "metadata": {},
   "source": [
    "## Georgia"
   ]
  },
  {
   "cell_type": "code",
   "execution_count": null,
   "metadata": {},
   "outputs": [],
   "source": [
    "rutas_Georgia = [\n",
    "    '../Dataset original/review-Georgia/1.json',\n",
    "    '../Dataset original/review-Georgia/2.json',\n",
    "    '../Dataset original/review-Georgia/3.json',\n",
    "    '../Dataset original/review-Georgia/4.json',\n",
    "    '../Dataset original/review-Georgia/5.json',\n",
    "    '../Dataset original/review-Georgia/6.json',\n",
    "    '../Dataset original/review-Georgia/7.json',\n",
    "    '../Dataset original/review-Georgia/8.json',\n",
    "    '../Dataset original/review-Georgia/9.json',\n",
    "    '../Dataset original/review-Georgia/10.json',\n",
    "    '../Dataset original/review-Georgia/11.json',\n",
    "    '../Dataset original/review-Georgia/12.json',\n",
    "    '../Dataset original/review-Georgia/13.json'\n",
    "]"
   ]
  },
  {
   "cell_type": "code",
   "execution_count": null,
   "metadata": {},
   "outputs": [],
   "source": [
    "Georgia = leer_y_concatenar(rutas_Georgia)"
   ]
  },
  {
   "cell_type": "markdown",
   "metadata": {},
   "source": [
    "Borramos filas inecesarias:"
   ]
  },
  {
   "cell_type": "code",
   "execution_count": null,
   "metadata": {},
   "outputs": [],
   "source": [
    "Georgia.drop(columns=['pics' ,'resp'], inplace=True)"
   ]
  },
  {
   "cell_type": "markdown",
   "metadata": {},
   "source": [
    "Guardamos:"
   ]
  },
  {
   "cell_type": "code",
   "execution_count": null,
   "metadata": {},
   "outputs": [],
   "source": [
    "Georgia.to_parquet('../Dataset Final Google/Reviews Estados/Georgia.parquet',compression='gzip')"
   ]
  },
  {
   "cell_type": "markdown",
   "metadata": {},
   "source": [
    "## Kansas"
   ]
  },
  {
   "cell_type": "code",
   "execution_count": null,
   "metadata": {},
   "outputs": [],
   "source": [
    "rutas_Kansas = [\n",
    "    '../Dataset original/review-Kansas/1.json',\n",
    "    '../Dataset original/review-Kansas/2.json',\n",
    "    '../Dataset original/review-Kansas/3.json',\n",
    "    '../Dataset original/review-Kansas/4.json',\n",
    "    '../Dataset original/review-Kansas/5.json',\n",
    "    '../Dataset original/review-Kansas/6.json',\n",
    "    '../Dataset original/review-Kansas/7.json',\n",
    "    '../Dataset original/review-Kansas/8.json',\n",
    "    '../Dataset original/review-Kansas/9.json',\n",
    "    '../Dataset original/review-Kansas/10.json',\n",
    "    '../Dataset original/review-Kansas/11.json',\n",
    "    '../Dataset original/review-Kansas/12.json',\n",
    "    '../Dataset original/review-Kansas/13.json'\n",
    "]"
   ]
  },
  {
   "cell_type": "code",
   "execution_count": null,
   "metadata": {},
   "outputs": [],
   "source": [
    "Kansas = leer_y_concatenar(rutas_Kansas)"
   ]
  },
  {
   "cell_type": "markdown",
   "metadata": {},
   "source": [
    "Borramos columnas:"
   ]
  },
  {
   "cell_type": "code",
   "execution_count": null,
   "metadata": {},
   "outputs": [],
   "source": [
    "Kansas.drop(columns=['pics' ,'resp'], inplace=True)"
   ]
  },
  {
   "cell_type": "markdown",
   "metadata": {},
   "source": [
    "Guardamos:"
   ]
  },
  {
   "cell_type": "code",
   "execution_count": null,
   "metadata": {},
   "outputs": [],
   "source": [
    "Kansas.to_parquet('../Dataset Final Google/Reviews Estados/Kansas.parquet',compression='gzip')"
   ]
  },
  {
   "cell_type": "markdown",
   "metadata": {},
   "source": [
    "## Massachusetts"
   ]
  },
  {
   "cell_type": "code",
   "execution_count": null,
   "metadata": {},
   "outputs": [],
   "source": [
    "rutas_Massachusetts = [\n",
    "    '../Dataset original/review-Massachusetts/1.json',\n",
    "    '../Dataset original/review-Massachusetts/2.json',\n",
    "    '../Dataset original/review-Massachusetts/3.json',\n",
    "    '../Dataset original/review-Massachusetts/4.json',\n",
    "    '../Dataset original/review-Massachusetts/5.json',\n",
    "    '../Dataset original/review-Massachusetts/6.json',\n",
    "    '../Dataset original/review-Massachusetts/7.json',\n",
    "    '../Dataset original/review-Massachusetts/8.json',\n",
    "    '../Dataset original/review-Massachusetts/9.json',\n",
    "    '../Dataset original/review-Massachusetts/10.json',\n",
    "    '../Dataset original/review-Massachusetts/11.json',\n",
    "    '../Dataset original/review-Massachusetts/12.json',\n",
    "    '../Dataset original/review-Massachusetts/13.json',\n",
    "    '../Dataset original/review-Massachusetts/14.json',\n",
    "    '../Dataset original/review-Massachusetts/15.json',\n",
    "    '../Dataset original/review-Massachusetts/16.json'\n",
    "]"
   ]
  },
  {
   "cell_type": "code",
   "execution_count": null,
   "metadata": {},
   "outputs": [],
   "source": [
    "Massachusetts = leer_y_concatenar(rutas_Massachusetts)"
   ]
  },
  {
   "cell_type": "markdown",
   "metadata": {},
   "source": [
    "Borramos columnas:"
   ]
  },
  {
   "cell_type": "code",
   "execution_count": null,
   "metadata": {},
   "outputs": [],
   "source": [
    "Massachusetts.drop(columns=['pics' ,'resp'], inplace=True)"
   ]
  },
  {
   "cell_type": "markdown",
   "metadata": {},
   "source": [
    "Guardamos:"
   ]
  },
  {
   "cell_type": "code",
   "execution_count": null,
   "metadata": {},
   "outputs": [],
   "source": [
    "Massachusetts.to_parquet('../Dataset Final Google/Reviews Estados/Massachusetts.parquet',compression='gzip')"
   ]
  },
  {
   "cell_type": "markdown",
   "metadata": {},
   "source": [
    "## Missouri"
   ]
  },
  {
   "cell_type": "code",
   "execution_count": null,
   "metadata": {},
   "outputs": [],
   "source": [
    "rutas_Missouri = [\n",
    "    '../Dataset original/review-Missouri/1.json',\n",
    "    '../Dataset original/review-Missouri/2.json',\n",
    "    '../Dataset original/review-Missouri/3.json',\n",
    "    '../Dataset original/review-Missouri/4.json',\n",
    "    '../Dataset original/review-Missouri/5.json',\n",
    "    '../Dataset original/review-Missouri/6.json',\n",
    "    '../Dataset original/review-Missouri/7.json',\n",
    "    '../Dataset original/review-Missouri/8.json',\n",
    "    '../Dataset original/review-Missouri/9.json',\n",
    "    '../Dataset original/review-Missouri/10.json',\n",
    "    '../Dataset original/review-Missouri/11.json'\n",
    "]"
   ]
  },
  {
   "cell_type": "code",
   "execution_count": null,
   "metadata": {},
   "outputs": [],
   "source": [
    "Missouri = leer_y_concatenar(rutas_Missouri)"
   ]
  },
  {
   "cell_type": "markdown",
   "metadata": {},
   "source": [
    "Eliminamos columnas:"
   ]
  },
  {
   "cell_type": "code",
   "execution_count": null,
   "metadata": {},
   "outputs": [],
   "source": [
    "Missouri.drop(columns=['pics' ,'resp'], inplace=True)"
   ]
  },
  {
   "cell_type": "markdown",
   "metadata": {},
   "source": [
    "Guardamos:"
   ]
  },
  {
   "cell_type": "code",
   "execution_count": null,
   "metadata": {},
   "outputs": [],
   "source": [
    "Missouri.to_parquet('../Dataset Final Google/Reviews Estados/Missouri.parquet',compression='gzip')"
   ]
  },
  {
   "cell_type": "markdown",
   "metadata": {},
   "source": [
    "## New Jersey"
   ]
  },
  {
   "cell_type": "code",
   "execution_count": null,
   "metadata": {},
   "outputs": [],
   "source": [
    "rutas_New_Jersey = [\n",
    "    '../Dataset original/review-New_Jersey/1.json',\n",
    "    '../Dataset original/review-New_Jersey/2.json',\n",
    "    '../Dataset original/review-New_Jersey/3.json',\n",
    "    '../Dataset original/review-New_Jersey/4.json',\n",
    "    '../Dataset original/review-New_Jersey/5.json',\n",
    "    '../Dataset original/review-New_Jersey/6.json',\n",
    "    '../Dataset original/review-New_Jersey/7.json',\n",
    "    '../Dataset original/review-New_Jersey/8.json',\n",
    "    '../Dataset original/review-New_Jersey/9.json',\n",
    "    '../Dataset original/review-New_Jersey/10.json',\n",
    "    '../Dataset original/review-New_Jersey/11.json',\n",
    "    '../Dataset original/review-New_Jersey/12.json',\n",
    "    '../Dataset original/review-New_Jersey/13.json'\n",
    "]"
   ]
  },
  {
   "cell_type": "code",
   "execution_count": null,
   "metadata": {},
   "outputs": [],
   "source": [
    "New_Jersey = leer_y_concatenar(rutas_New_Jersey)"
   ]
  },
  {
   "cell_type": "markdown",
   "metadata": {},
   "source": [
    "Borramos columnas:"
   ]
  },
  {
   "cell_type": "code",
   "execution_count": null,
   "metadata": {},
   "outputs": [],
   "source": [
    "New_Jersey.drop(columns=['pics' ,'resp'], inplace=True)"
   ]
  },
  {
   "cell_type": "markdown",
   "metadata": {},
   "source": [
    "Guardamos:"
   ]
  },
  {
   "cell_type": "code",
   "execution_count": null,
   "metadata": {},
   "outputs": [],
   "source": [
    "New_Jersey.to_parquet('../Dataset Final Google/Reviews Estados/New_Jersey.parquet',compression='gzip')"
   ]
  },
  {
   "cell_type": "markdown",
   "metadata": {},
   "source": [
    "## New York"
   ]
  },
  {
   "cell_type": "code",
   "execution_count": null,
   "metadata": {},
   "outputs": [],
   "source": [
    "rutas_New_York = [\n",
    "    '../Dataset original/review-New_York/1.json',\n",
    "    '../Dataset original/review-New_York/2.json',\n",
    "    '../Dataset original/review-New_York/3.json',\n",
    "    '../Dataset original/review-New_York/4.json',\n",
    "    '../Dataset original/review-New_York/5.json',\n",
    "    '../Dataset original/review-New_York/6.json',\n",
    "    '../Dataset original/review-New_York/7.json',\n",
    "    '../Dataset original/review-New_York/8.json',\n",
    "    '../Dataset original/review-New_York/9.json',\n",
    "    '../Dataset original/review-New_York/10.json',\n",
    "    '../Dataset original/review-New_York/11.json',\n",
    "    '../Dataset original/review-New_York/12.json',\n",
    "    '../Dataset original/review-New_York/13.json',\n",
    "    '../Dataset original/review-New_York/14.json',\n",
    "    '../Dataset original/review-New_York/15.json',\n",
    "    '../Dataset original/review-New_York/16.json',\n",
    "    '../Dataset original/review-New_York/17.json',\n",
    "    '../Dataset original/review-New_York/18.json'\n",
    "]"
   ]
  },
  {
   "cell_type": "code",
   "execution_count": null,
   "metadata": {},
   "outputs": [],
   "source": [
    "New_York = leer_y_concatenar(rutas_New_York)"
   ]
  },
  {
   "cell_type": "markdown",
   "metadata": {},
   "source": [
    "Borramos columnas:"
   ]
  },
  {
   "cell_type": "code",
   "execution_count": null,
   "metadata": {},
   "outputs": [],
   "source": [
    "New_York.drop(columns=['pics' ,'resp'], inplace=True)"
   ]
  },
  {
   "cell_type": "markdown",
   "metadata": {},
   "source": [
    "Guardamos:"
   ]
  },
  {
   "cell_type": "code",
   "execution_count": null,
   "metadata": {},
   "outputs": [],
   "source": [
    "New_York.to_parquet('../Dataset Final Google/Reviews Estados/New_York.parquet',compression='gzip')"
   ]
  },
  {
   "cell_type": "markdown",
   "metadata": {},
   "source": [
    "## Pensilvania"
   ]
  },
  {
   "cell_type": "code",
   "execution_count": null,
   "metadata": {},
   "outputs": [],
   "source": [
    "rutas_Pensilvania = [\n",
    "    '../Dataset original/review-Pennsylvania/1.json',\n",
    "    '../Dataset original/review-Pennsylvania/2.json',\n",
    "    '../Dataset original/review-Pennsylvania/3.json',\n",
    "    '../Dataset original/review-Pennsylvania/4.json',\n",
    "    '../Dataset original/review-Pennsylvania/5.json',\n",
    "    '../Dataset original/review-Pennsylvania/6.json',\n",
    "    '../Dataset original/review-Pennsylvania/7.json',\n",
    "    '../Dataset original/review-Pennsylvania/8.json',\n",
    "    '../Dataset original/review-Pennsylvania/9.json',\n",
    "    '../Dataset original/review-Pennsylvania/10.json',\n",
    "    '../Dataset original/review-Pennsylvania/11.json',\n",
    "    '../Dataset original/review-Pennsylvania/12.json',\n",
    "    '../Dataset original/review-Pennsylvania/13.json',\n",
    "    '../Dataset original/review-Pennsylvania/14.json',\n",
    "    '../Dataset original/review-Pennsylvania/15.json',\n",
    "    '../Dataset original/review-Pennsylvania/16.json'\n",
    "]"
   ]
  },
  {
   "cell_type": "code",
   "execution_count": null,
   "metadata": {},
   "outputs": [],
   "source": [
    "Pensilvania = leer_y_concatenar(rutas_Pensilvania)"
   ]
  },
  {
   "cell_type": "markdown",
   "metadata": {},
   "source": [
    "Borramos columnas:"
   ]
  },
  {
   "cell_type": "code",
   "execution_count": null,
   "metadata": {},
   "outputs": [],
   "source": [
    "Pensilvania.drop(columns=['pics' ,'resp'], inplace=True)"
   ]
  },
  {
   "cell_type": "markdown",
   "metadata": {},
   "source": [
    "Guardamos:"
   ]
  },
  {
   "cell_type": "code",
   "execution_count": null,
   "metadata": {},
   "outputs": [],
   "source": [
    "Pensilvania.to_parquet('../Dataset Final Google/Reviews Estados/Pensilvania.parquet',compression='gzip')"
   ]
  },
  {
   "cell_type": "markdown",
   "metadata": {},
   "source": [
    "## Texas"
   ]
  },
  {
   "cell_type": "code",
   "execution_count": null,
   "metadata": {},
   "outputs": [],
   "source": [
    "rutas_Texas = [\n",
    "    '../Dataset original/review-Texas/1.json',\n",
    "    '../Dataset original/review-Texas/2.json',\n",
    "    '../Dataset original/review-Texas/3.json',\n",
    "    '../Dataset original/review-Texas/4.json',\n",
    "    '../Dataset original/review-Texas/5.json',\n",
    "    '../Dataset original/review-Texas/6.json',\n",
    "    '../Dataset original/review-Texas/7.json',\n",
    "    '../Dataset original/review-Texas/8.json',\n",
    "    '../Dataset original/review-Texas/9.json',\n",
    "    '../Dataset original/review-Texas/10.json',\n",
    "    '../Dataset original/review-Texas/11.json',\n",
    "    '../Dataset original/review-Texas/12.json',\n",
    "    '../Dataset original/review-Texas/13.json',\n",
    "    '../Dataset original/review-Texas/14.json',\n",
    "    '../Dataset original/review-Texas/15.json',\n",
    "    '../Dataset original/review-Texas/16.json'\n",
    "]"
   ]
  },
  {
   "cell_type": "code",
   "execution_count": null,
   "metadata": {},
   "outputs": [],
   "source": [
    "Texas = leer_y_concatenar(rutas_Texas)"
   ]
  },
  {
   "cell_type": "markdown",
   "metadata": {},
   "source": [
    "Borramos columnas:"
   ]
  },
  {
   "cell_type": "code",
   "execution_count": null,
   "metadata": {},
   "outputs": [],
   "source": [
    "Texas.drop(columns=['pics' ,'resp'], inplace=True)"
   ]
  },
  {
   "cell_type": "markdown",
   "metadata": {},
   "source": [
    "Guardamos:"
   ]
  },
  {
   "cell_type": "code",
   "execution_count": null,
   "metadata": {},
   "outputs": [],
   "source": [
    "Texas.to_parquet('../Dataset Final Google/Reviews Estados/Texas.parquet',compression='gzip')"
   ]
  },
  {
   "cell_type": "markdown",
   "metadata": {},
   "source": [
    "## Washington"
   ]
  },
  {
   "cell_type": "code",
   "execution_count": null,
   "metadata": {},
   "outputs": [],
   "source": [
    "rutas_Washington = [\n",
    "    '../Dataset original/review-Washington/1.json',\n",
    "    '../Dataset original/review-Washington/2.json',\n",
    "    '../Dataset original/review-Washington/3.json',\n",
    "    '../Dataset original/review-Washington/4.json',\n",
    "    '../Dataset original/review-Washington/5.json',\n",
    "    '../Dataset original/review-Washington/6.json',\n",
    "    '../Dataset original/review-Washington/7.json',\n",
    "    '../Dataset original/review-Washington/8.json',\n",
    "    '../Dataset original/review-Washington/9.json',\n",
    "    '../Dataset original/review-Washington/10.json',\n",
    "    '../Dataset original/review-Washington/11.json',\n",
    "    '../Dataset original/review-Washington/12.json',\n",
    "    '../Dataset original/review-Washington/13.json'\n",
    "]"
   ]
  },
  {
   "cell_type": "code",
   "execution_count": null,
   "metadata": {},
   "outputs": [],
   "source": [
    "Washington = leer_y_concatenar(rutas_Washington)"
   ]
  },
  {
   "cell_type": "markdown",
   "metadata": {},
   "source": [
    "Borrar columnas:"
   ]
  },
  {
   "cell_type": "code",
   "execution_count": null,
   "metadata": {},
   "outputs": [],
   "source": [
    "Washington.drop(columns=['pics' ,'resp'], inplace=True)"
   ]
  },
  {
   "cell_type": "markdown",
   "metadata": {},
   "source": [
    "Guardamos:"
   ]
  },
  {
   "cell_type": "code",
   "execution_count": null,
   "metadata": {},
   "outputs": [],
   "source": [
    "Washington.to_parquet('../Dataset Final Google/Reviews Estados/Washington.parquet',compression='gzip')"
   ]
  }
 ],
 "metadata": {
  "kernelspec": {
   "display_name": "Python 3",
   "language": "python",
   "name": "python3"
  },
  "language_info": {
   "codemirror_mode": {
    "name": "ipython",
    "version": 3
   },
   "file_extension": ".py",
   "mimetype": "text/x-python",
   "name": "python",
   "nbconvert_exporter": "python",
   "pygments_lexer": "ipython3",
   "version": "3.12.2"
  }
 },
 "nbformat": 4,
 "nbformat_minor": 2
}
